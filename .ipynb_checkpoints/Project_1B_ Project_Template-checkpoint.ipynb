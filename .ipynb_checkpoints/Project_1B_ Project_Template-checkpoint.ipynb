{
 "cells": [
  {
   "cell_type": "markdown",
   "metadata": {},
   "source": [
    "# Part I. ETL Pipeline for Pre-Processing the Files"
   ]
  },
  {
   "cell_type": "markdown",
   "metadata": {},
   "source": [
    "## Run the code below for preprocessing the files"
   ]
  },
  {
   "cell_type": "markdown",
   "metadata": {},
   "source": [
    "#### Import Python packages "
   ]
  },
  {
   "cell_type": "code",
   "execution_count": 1,
   "metadata": {},
   "outputs": [],
   "source": [
    "# Import Python packages \n",
    "import pandas as pd\n",
    "import cassandra\n",
    "import re\n",
    "import os\n",
    "import glob\n",
    "import numpy as np\n",
    "import json\n",
    "import csv"
   ]
  },
  {
   "cell_type": "markdown",
   "metadata": {},
   "source": [
    "#### Creating list of filepaths to process original event csv data files"
   ]
  },
  {
   "cell_type": "code",
   "execution_count": 2,
   "metadata": {},
   "outputs": [
    {
     "name": "stdout",
     "output_type": "stream",
     "text": [
      "C:\\Users\\ofili\\Documents\\Projects\\Data Engineering\\Data Modeling with Cassandra\n"
     ]
    }
   ],
   "source": [
    "# check the current working directory\n",
    "print(os.getcwd())\n",
    "\n",
    "# Get the current folder and subfolder event_data\n",
    "filepath = os.getcwd() + '/event_data'\n",
    "\n",
    "# Create a for loop to create a list of files and collect each filepath\n",
    "for root, dirs, files in os.walk(filepath):\n",
    "    \n",
    "# join the file path and roots with the subdirectories using glob\n",
    "    file_path_list = glob.glob(os.path.join(root,'*'))\n",
    "    #print(file_path_list)"
   ]
  },
  {
   "cell_type": "markdown",
   "metadata": {},
   "source": [
    "#### Processing the files to create the data file csv that will be used for Apache Casssandra tables"
   ]
  },
  {
   "cell_type": "code",
   "execution_count": 3,
   "metadata": {},
   "outputs": [],
   "source": [
    "# initiating an empty list of rows that will be generated from each file\n",
    "full_data_rows_list = [] \n",
    "    \n",
    "# for every filepath in the file path list \n",
    "for f in file_path_list:\n",
    "\n",
    "# reading csv file \n",
    "    with open(f, 'r', encoding = 'utf8', newline='') as csvfile: \n",
    "        # creating a csv reader object \n",
    "        csvreader = csv.reader(csvfile) \n",
    "        next(csvreader)\n",
    "        \n",
    "# extracting each data row one by one and append it        \n",
    "        for line in csvreader:\n",
    "            #print(line)\n",
    "            full_data_rows_list.append(line) \n",
    "            \n",
    "# Get total number of rows \n",
    "#print(len(full_data_rows_list))\n",
    "\n",
    "# Get the list of event_data rows\n",
    "#print(full_data_rows_list)\n",
    "\n",
    "# creating a smaller event data csv file called event_datafile_full csv that will be used to insert data into the \\\n",
    "# Apache Cassandra tables\n",
    "csv.register_dialect('myDialect', quoting=csv.QUOTE_ALL, skipinitialspace=True)\n",
    "\n",
    "with open('event_datafile_new.csv', 'w', encoding = 'utf8', newline='') as f:\n",
    "    writer = csv.writer(f, dialect='myDialect')\n",
    "    writer.writerow(['artist','firstName','gender','itemInSession','lastName','length',\\\n",
    "                'level','location','sessionId','song','userId'])\n",
    "    for row in full_data_rows_list:\n",
    "        if (row[0] == ''):\n",
    "            continue\n",
    "        writer.writerow((row[0], row[2], row[3], row[4], row[5], row[6], row[7], row[8], row[12], row[13], row[16]))\n"
   ]
  },
  {
   "cell_type": "code",
   "execution_count": 4,
   "metadata": {},
   "outputs": [
    {
     "name": "stdout",
     "output_type": "stream",
     "text": [
      "6821\n"
     ]
    }
   ],
   "source": [
    "# check the number of rows in the new csv file\n",
    "with open('event_datafile_new.csv', 'r', encoding = 'utf8') as f:\n",
    "    print(sum(1 for line in f))"
   ]
  },
  {
   "cell_type": "markdown",
   "metadata": {},
   "source": [
    "# Part II. Load data into cassandra database tables \n",
    "\n",
    "The CSV file is ready for querying. The file is located within the Workspace directory and named <font color=red>**event_datafile_new.csv**</font>. \n",
    "\n",
    "The event_datafile_new.csv contains the following columns: \n",
    "- artist \n",
    "- firstName of user\n",
    "- gender of user\n",
    "- item number in session\n",
    "- last name of user\n",
    "- length of the song\n",
    "- level (paid or free song)\n",
    "- location of the user\n",
    "- sessionId\n",
    "- song title\n",
    "- userId\n",
    "\n",
    "The image below is a screenshot of what the denormalized data should appear like in the <font color=red>**event_datafile_new.csv**</font> after the code above is run:<br>\n",
    "\n",
    "<img src=\"images/image_event_datafile_new.jpg\">"
   ]
  },
  {
   "cell_type": "markdown",
   "metadata": {},
   "source": [
    "#### Creating a Cluster"
   ]
  },
  {
   "cell_type": "code",
   "execution_count": 5,
   "metadata": {},
   "outputs": [],
   "source": [
    "# This should make a connection to a Cassandra instance your local machine \n",
    "# (127.0.0.1)\n",
    "\n",
    "from cassandra.cluster import Cluster\n",
    "cluster = Cluster()\n",
    "\n",
    "# To establish connection and begin executing queries, need a session\n",
    "session = cluster.connect()"
   ]
  },
  {
   "cell_type": "markdown",
   "metadata": {},
   "source": [
    "#### Create Keyspace"
   ]
  },
  {
   "cell_type": "code",
   "execution_count": 6,
   "metadata": {},
   "outputs": [],
   "source": [
    "# Create a Keyspace \n",
    "\n",
    "try:\n",
    "    session.execute(\"\"\"\n",
    "    CREATE KEYSPACE IF NOT EXISTS music\n",
    "    WITH REPLICATION = {'class': 'SimpleStrategy', 'replication_factor': 1}\n",
    "    \"\"\")\n",
    "except Exception as e:\n",
    "    print(e)"
   ]
  },
  {
   "cell_type": "markdown",
   "metadata": {},
   "source": [
    "#### Set Keyspace"
   ]
  },
  {
   "cell_type": "code",
   "execution_count": 7,
   "metadata": {},
   "outputs": [],
   "source": [
    "#Set KEYSPACE to the keyspace specified above\n",
    "\n",
    "session.set_keyspace('music')"
   ]
  },
  {
   "cell_type": "markdown",
   "metadata": {},
   "source": [
    "## Create queries to ask the following three questions of the data\n",
    "\n",
    "For this project, we look at three scenarios. For each scenario, we model a data table after the query we plan to execute\n",
    "\n"
   ]
  },
  {
   "cell_type": "markdown",
   "metadata": {},
   "source": [
    "***"
   ]
  },
  {
   "cell_type": "markdown",
   "metadata": {},
   "source": [
    "### Query 1\n"
   ]
  },
  {
   "cell_type": "markdown",
   "metadata": {},
   "source": [
    "#### Create & Insert Operations for the `session_item` table"
   ]
  },
  {
   "cell_type": "markdown",
   "metadata": {},
   "source": [
    "To query efficiently, we assign `sessionId` and `itemInSession` as the primary key. This will partition the table under `sessionId` with `itemInSession` as clustering colu"
   ]
  },
  {
   "cell_type": "code",
   "execution_count": 8,
   "metadata": {},
   "outputs": [
    {
     "name": "stdout",
     "output_type": "stream",
     "text": [
      "<Error from server: code=2000 [Syntax error in CQL query] message=\"line 1:156 no viable alternative at input ')'\">\n"
     ]
    }
   ],
   "source": [
    "# Create session_item table\n",
    "\n",
    "query = \"CREATE TABLE IF NOT EXISTS session_item\"\n",
    "query = query + \"(sessionId bigint, itemInSession bigint, artist text, song text, length float, PRIMARY KEY ((sessionId), itemInSession))\"\n",
    "try:\n",
    "    session.execute(query)\n",
    "except Exception as e:\n",
    "    print(e)"
   ]
  },
  {
   "cell_type": "code",
   "execution_count": 9,
   "metadata": {},
   "outputs": [
    {
     "ename": "InvalidRequest",
     "evalue": "Error from server: code=2200 [Invalid query] message=\"unconfigured columnfamily session_item\"",
     "output_type": "error",
     "traceback": [
      "\u001b[1;31m---------------------------------------------------------------------------\u001b[0m",
      "\u001b[1;31mInvalidRequest\u001b[0m                            Traceback (most recent call last)",
      "\u001b[1;32mc:\\Users\\ofili\\Documents\\Projects\\Data Engineering\\Data Modeling with Cassandra\\Project_1B_ Project_Template.ipynb Cell 23'\u001b[0m in \u001b[0;36m<cell line: 4>\u001b[1;34m()\u001b[0m\n\u001b[0;32m     <a href='vscode-notebook-cell:/c%3A/Users/ofili/Documents/Projects/Data%20Engineering/Data%20Modeling%20with%20Cassandra/Project_1B_%20Project_Template.ipynb#ch0000022?line=9'>10</a>\u001b[0m query \u001b[39m=\u001b[39m query \u001b[39m+\u001b[39m \u001b[39m\"\u001b[39m\u001b[39mVALUES (\u001b[39m\u001b[39m%s\u001b[39;00m\u001b[39m, \u001b[39m\u001b[39m%s\u001b[39;00m\u001b[39m, \u001b[39m\u001b[39m%s\u001b[39;00m\u001b[39m, \u001b[39m\u001b[39m%s\u001b[39;00m\u001b[39m, \u001b[39m\u001b[39m%s\u001b[39;00m\u001b[39m)\u001b[39m\u001b[39m\"\u001b[39m\n\u001b[0;32m     <a href='vscode-notebook-cell:/c%3A/Users/ofili/Documents/Projects/Data%20Engineering/Data%20Modeling%20with%20Cassandra/Project_1B_%20Project_Template.ipynb#ch0000022?line=10'>11</a>\u001b[0m \u001b[39m# Assign column element to each column in the INSERT statement\u001b[39;00m\n\u001b[1;32m---> <a href='vscode-notebook-cell:/c%3A/Users/ofili/Documents/Projects/Data%20Engineering/Data%20Modeling%20with%20Cassandra/Project_1B_%20Project_Template.ipynb#ch0000022?line=11'>12</a>\u001b[0m session\u001b[39m.\u001b[39;49mexecute(query, (\u001b[39mint\u001b[39;49m(line[\u001b[39m8\u001b[39;49m]), \u001b[39mint\u001b[39;49m(line[\u001b[39m3\u001b[39;49m]), line[\u001b[39m0\u001b[39;49m], line[\u001b[39m9\u001b[39;49m], \u001b[39mfloat\u001b[39;49m(line[\u001b[39m5\u001b[39;49m])))\n",
      "File \u001b[1;32mc:\\Users\\ofili\\AppData\\Local\\Programs\\Python\\Python310\\lib\\site-packages\\cassandra\\cluster.py:2618\u001b[0m, in \u001b[0;36mSession.execute\u001b[1;34m(self, query, parameters, timeout, trace, custom_payload, execution_profile, paging_state, host, execute_as)\u001b[0m\n\u001b[0;32m   <a href='file:///c%3A/Users/ofili/AppData/Local/Programs/Python/Python310/lib/site-packages/cassandra/cluster.py?line=2574'>2575</a>\u001b[0m \u001b[39mdef\u001b[39;00m \u001b[39mexecute\u001b[39m(\u001b[39mself\u001b[39m, query, parameters\u001b[39m=\u001b[39m\u001b[39mNone\u001b[39;00m, timeout\u001b[39m=\u001b[39m_NOT_SET, trace\u001b[39m=\u001b[39m\u001b[39mFalse\u001b[39;00m,\n\u001b[0;32m   <a href='file:///c%3A/Users/ofili/AppData/Local/Programs/Python/Python310/lib/site-packages/cassandra/cluster.py?line=2575'>2576</a>\u001b[0m             custom_payload\u001b[39m=\u001b[39m\u001b[39mNone\u001b[39;00m, execution_profile\u001b[39m=\u001b[39mEXEC_PROFILE_DEFAULT,\n\u001b[0;32m   <a href='file:///c%3A/Users/ofili/AppData/Local/Programs/Python/Python310/lib/site-packages/cassandra/cluster.py?line=2576'>2577</a>\u001b[0m             paging_state\u001b[39m=\u001b[39m\u001b[39mNone\u001b[39;00m, host\u001b[39m=\u001b[39m\u001b[39mNone\u001b[39;00m, execute_as\u001b[39m=\u001b[39m\u001b[39mNone\u001b[39;00m):\n\u001b[0;32m   <a href='file:///c%3A/Users/ofili/AppData/Local/Programs/Python/Python310/lib/site-packages/cassandra/cluster.py?line=2577'>2578</a>\u001b[0m     \u001b[39m\"\"\"\u001b[39;00m\n\u001b[0;32m   <a href='file:///c%3A/Users/ofili/AppData/Local/Programs/Python/Python310/lib/site-packages/cassandra/cluster.py?line=2578'>2579</a>\u001b[0m \u001b[39m    Execute the given query and synchronously wait for the response.\u001b[39;00m\n\u001b[0;32m   <a href='file:///c%3A/Users/ofili/AppData/Local/Programs/Python/Python310/lib/site-packages/cassandra/cluster.py?line=2579'>2580</a>\u001b[0m \n\u001b[1;32m   (...)\u001b[0m\n\u001b[0;32m   <a href='file:///c%3A/Users/ofili/AppData/Local/Programs/Python/Python310/lib/site-packages/cassandra/cluster.py?line=2614'>2615</a>\u001b[0m \u001b[39m    on a DSE cluster.\u001b[39;00m\n\u001b[0;32m   <a href='file:///c%3A/Users/ofili/AppData/Local/Programs/Python/Python310/lib/site-packages/cassandra/cluster.py?line=2615'>2616</a>\u001b[0m \u001b[39m    \"\"\"\u001b[39;00m\n\u001b[1;32m-> <a href='file:///c%3A/Users/ofili/AppData/Local/Programs/Python/Python310/lib/site-packages/cassandra/cluster.py?line=2617'>2618</a>\u001b[0m     \u001b[39mreturn\u001b[39;00m \u001b[39mself\u001b[39;49m\u001b[39m.\u001b[39;49mexecute_async(query, parameters, trace, custom_payload, timeout, execution_profile, paging_state, host, execute_as)\u001b[39m.\u001b[39;49mresult()\n",
      "File \u001b[1;32mc:\\Users\\ofili\\AppData\\Local\\Programs\\Python\\Python310\\lib\\site-packages\\cassandra\\cluster.py:4894\u001b[0m, in \u001b[0;36mResponseFuture.result\u001b[1;34m(self)\u001b[0m\n\u001b[0;32m   <a href='file:///c%3A/Users/ofili/AppData/Local/Programs/Python/Python310/lib/site-packages/cassandra/cluster.py?line=4891'>4892</a>\u001b[0m     \u001b[39mreturn\u001b[39;00m ResultSet(\u001b[39mself\u001b[39m, \u001b[39mself\u001b[39m\u001b[39m.\u001b[39m_final_result)\n\u001b[0;32m   <a href='file:///c%3A/Users/ofili/AppData/Local/Programs/Python/Python310/lib/site-packages/cassandra/cluster.py?line=4892'>4893</a>\u001b[0m \u001b[39melse\u001b[39;00m:\n\u001b[1;32m-> <a href='file:///c%3A/Users/ofili/AppData/Local/Programs/Python/Python310/lib/site-packages/cassandra/cluster.py?line=4893'>4894</a>\u001b[0m     \u001b[39mraise\u001b[39;00m \u001b[39mself\u001b[39m\u001b[39m.\u001b[39m_final_exception\n",
      "\u001b[1;31mInvalidRequest\u001b[0m: Error from server: code=2200 [Invalid query] message=\"unconfigured columnfamily session_item\""
     ]
    }
   ],
   "source": [
    "# Set up the CSV file\n",
    "file = 'event_datafile_new.csv'\n",
    "\n",
    "with open(file, encoding = 'utf8') as f:\n",
    "    csvreader = csv.reader(f)\n",
    "    next(csvreader) # skip the first row\n",
    "    for line in csvreader:\n",
    "# Assign the INSERT statements into the `query` variable\n",
    "        query = \"INSERT INTO session_item (sessionId, itemInSession, artist, song, length)\"\n",
    "        query = query + \"VALUES (%s, %s, %s, %s, %s)\"\n",
    "        # Assign column element to each column in the INSERT statement\n",
    "        session.execute(query, (int(line[8]), int(line[3]), line[0], line[9], float(line[5])))"
   ]
  },
  {
   "cell_type": "markdown",
   "metadata": {},
   "source": [
    "#### Query Statement\n",
    "\n",
    "Get the artist, song title and song's length in the music app history that was heard during `sessionId = 338`, and `itemInSession  = 4`"
   ]
  },
  {
   "cell_type": "code",
   "execution_count": 13,
   "metadata": {
    "scrolled": true
   },
   "outputs": [
    {
     "name": "stdout",
     "output_type": "stream",
     "text": [
      "Faithless Music Matters (Mark Knight Dub) 495.30731201171875\n"
     ]
    }
   ],
   "source": [
    "# Query 1:  Get the artist, song title and song's length in the music app history that was heard during \\\n",
    "# sessionId = 338, and itemInSession = 4\n",
    "\n",
    "query = \"\"\" SELECT artist, song, length FROM session_item\n",
    "            WHERE sessionId = 338 AND itemInSession = 4\n",
    "        \"\"\"\n",
    "try:\n",
    "    rows = session.execute(query)\n",
    "except Exception as e:\n",
    "    print(e)\n",
    "for rows in rows:\n",
    "    print(rows.artist, rows.song, rows.length)"
   ]
  },
  {
   "cell_type": "markdown",
   "metadata": {},
   "source": [
    "### Query 2"
   ]
  },
  {
   "cell_type": "markdown",
   "metadata": {},
   "source": [
    "#### Create & Insert Operations for the `user_session` table"
   ]
  },
  {
   "cell_type": "markdown",
   "metadata": {},
   "source": [
    "`userId` and `sessionId` are assigned as the primary key. The  table will be partitioned by same columns. We use itemInSession and song as clustering columns. This will sort the songs by itemInSession first, then the song title in alphabetical order and finally by artist name."
   ]
  },
  {
   "cell_type": "code",
   "execution_count": 14,
   "metadata": {},
   "outputs": [],
   "source": [
    "# Create user_session table\n",
    "\n",
    "query = \"CREATE TABLE IF NOT EXISTS user_session\"\n",
    "query = query + \"(userId bigint, sessionId bigint, itemInSession bigint, artist text, song text, user text, PRIMARY KEY ((userId, sessionId), itemInSession, song))\"\n",
    "try:\n",
    "    session.execute(query)\n",
    "except Exception as e:\n",
    "    print(e)"
   ]
  },
  {
   "cell_type": "code",
   "execution_count": 15,
   "metadata": {},
   "outputs": [],
   "source": [
    "# Setup csv\n",
    "\n",
    "file = 'event_datafile_new.csv'\n",
    "\n",
    "with open(file, encoding = 'utf8') as f:\n",
    "    csvreader = csv.reader(f)\n",
    "    next(csvreader) # Skip first row\n",
    "    for line in csvreader:\n",
    "        # Assign the INSERT statements into the `query` variable\n",
    "        query = \"INSERT INTO user_session(userId, sessionId, itemInSession, artist, song, user)\"\n",
    "        query = query + \" VALUES (%s, %s, %s, %s, %s, %s)\"\n",
    "        # Assign column element to each column in the INSERT statement\n",
    "        session.execute(query, (int(line[10]), int(line[8]), int(line[3]), line[0], line[9], line[1] + \" \" + line[4]))"
   ]
  },
  {
   "cell_type": "markdown",
   "metadata": {},
   "source": [
    "#### Query Statement"
   ]
  },
  {
   "cell_type": "markdown",
   "metadata": {},
   "source": [
    "Get the name of the artist, song (sorted by itemInSession) and user (first and last name) for `userid = 10`, `sessionid = 182`"
   ]
  },
  {
   "cell_type": "code",
   "execution_count": 16,
   "metadata": {},
   "outputs": [
    {
     "name": "stdout",
     "output_type": "stream",
     "text": [
      "Down To The Bone Keep On Keepin' On Sylvie Cruz\n",
      "Three Drives Greece 2000 Sylvie Cruz\n",
      "Sebastien Tellier Kilometer Sylvie Cruz\n",
      "Lonnie Gordon Catch You Baby (Steve Pitron & Max Sanna Radio Edit) Sylvie Cruz\n"
     ]
    }
   ],
   "source": [
    "# Query 2: Get the name of artist, song (sorted by itemInSession) and user (first and last name)\\\n",
    "# WHERE userId = 10 AND sessionId = 182\n",
    "\n",
    "query = \"SELECT artist, song, user FROM user_session WHERE userId = 10 AND sessionId = 182\"\n",
    "try:\n",
    "    rows = session.execute(query)\n",
    "except Exception as e:\n",
    "    print(e)\n",
    "for row in rows:\n",
    "    print(row.artist, row.song, row.user)"
   ]
  },
  {
   "cell_type": "markdown",
   "metadata": {},
   "source": [
    "### Query 3"
   ]
  },
  {
   "cell_type": "markdown",
   "metadata": {},
   "source": [
    "#### Create & Insert Operations for the `user_song` table"
   ]
  },
  {
   "cell_type": "markdown",
   "metadata": {},
   "source": [
    "To achieve the query result we assign `song` and `userId` as the primary key and partition by same column. This allows for efficient querying by WHERE clause based on song title. \n",
    "\n",
    "The `user` column is used as a clustering column to sort users in alphabetical order."
   ]
  },
  {
   "cell_type": "code",
   "execution_count": 62,
   "metadata": {},
   "outputs": [],
   "source": [
    "# Create user_song table\n",
    "\n",
    "query = \"CREATE TABLE IF NOT EXISTS user_song\"\n",
    "query = query + \"(song text, userId bigint, user text, PRIMARY KEY(song, userId))\"\n",
    "try:\n",
    "    session.execute(query)\n",
    "except Exception as e:\n",
    "    print(e)"
   ]
  },
  {
   "cell_type": "code",
   "execution_count": 63,
   "metadata": {},
   "outputs": [],
   "source": [
    "# Setup csv\n",
    "\n",
    "file = 'event_datafile_new.csv'\n",
    "\n",
    "with open(file, encoding = 'utf8') as f:\n",
    "    csvreader = csv.reader(f)\n",
    "    next(csvreader) # Skip first row\n",
    "    for line in csvreader:\n",
    "        # Assign the INSERT statements into the `query` variable\n",
    "        query = \"INSERT INTO user_song (song, userId, user)\"\n",
    "        query = query + \" VALUES(%s, %s, %s)\"\n",
    "        # Assign column element to each column in the INSERT statement\n",
    "        #session.execute(query, (line[9], line[1] + \" \" + line[4]))\n",
    "        session.execute(query, (line[9], int(line[10]), line[1] + \" \" + line[4]))"
   ]
  },
  {
   "cell_type": "markdown",
   "metadata": {},
   "source": [
    "#### Query Statement"
   ]
  },
  {
   "cell_type": "markdown",
   "metadata": {},
   "source": [
    "Get every user name (first and last) in the music app history who listened to the song 'All Hands Against His Own'"
   ]
  },
  {
   "cell_type": "code",
   "execution_count": 64,
   "metadata": {},
   "outputs": [
    {
     "name": "stdout",
     "output_type": "stream",
     "text": [
      "Jacqueline Lynch\n",
      "Tegan Levine\n",
      "Sara Johnson\n"
     ]
    }
   ],
   "source": [
    "# Query 3: Get every user name (first and last) in the music app history who listened to the song 'All Hands Against His Own'\n",
    "\n",
    "query = \"SELECT user FROM user_song WHERE song = 'All Hands Against His Own'\"\n",
    "try:\n",
    "    rows = session.execute(query)\n",
    "except Exception as e:\n",
    "    print(e)\n",
    "for row in rows:\n",
    "    print(row.user)"
   ]
  },
  {
   "cell_type": "markdown",
   "metadata": {},
   "source": [
    "### Drop the tables before closing out the sessions"
   ]
  },
  {
   "cell_type": "code",
   "execution_count": 4,
   "metadata": {},
   "outputs": [],
   "source": [
    "# Drop the table before closing out the sessions\n",
    "\n",
    "drop_query_0 = \"drop table session_item\"\n",
    "drop_query_1 = \"drop table user_session\"\n",
    "drop_query_2 = \"drop table user_song\"\n",
    "try:\n",
    "    session.execute(drop_query_0)\n",
    "    session.execute(drop_query_1)\n",
    "    session.execute(drop_query_2)\n",
    "except Exception as e:\n",
    "    print(e)"
   ]
  },
  {
   "cell_type": "markdown",
   "metadata": {},
   "source": [
    "### Close the session and cluster connection¶"
   ]
  },
  {
   "cell_type": "code",
   "execution_count": null,
   "metadata": {},
   "outputs": [],
   "source": [
    "session.shutdown()\n",
    "cluster.shutdown()"
   ]
  }
 ],
 "metadata": {
  "kernelspec": {
   "display_name": "Python 3 (ipykernel)",
   "language": "python",
   "name": "python3"
  },
  "language_info": {
   "codemirror_mode": {
    "name": "ipython",
    "version": 3
   },
   "file_extension": ".py",
   "mimetype": "text/x-python",
   "name": "python",
   "nbconvert_exporter": "python",
   "pygments_lexer": "ipython3",
   "version": "3.10.3"
  },
  "vscode": {
   "interpreter": {
    "hash": "7b726fd32f96e7e840e6d3f217df7fb5bd5d2eac07fceda9a939d9c946b42ff0"
   }
  }
 },
 "nbformat": 4,
 "nbformat_minor": 4
}
